{
  "nbformat": 4,
  "nbformat_minor": 0,
  "metadata": {
    "colab": {
      "name": "Stat-Quiz.ipynb",
      "provenance": []
    },
    "kernelspec": {
      "name": "python3",
      "display_name": "Python 3"
    }
  },
  "cells": [
    {
      "cell_type": "code",
      "metadata": {
        "id": "saVZf2iW8lX7"
      },
      "source": [
        "  1. ถึง 5. จงหาค่า Mean, Mode, Median, Variance และ STD ของเลขชุดนี้\n",
        "          10, 20, 50, 70, 90, 110, 15, 66, 20, 33\n",
        "\n",
        "          data : 10, 20, 50, 70, 90, 110, 15, 66, 20, 33\n",
        "          Mean = 48.4\n",
        "          Mode = 20\n",
        "          Median = 41.5\n",
        "          Variance = 1193.82222\n",
        "          STD = 34.55173\n"
      ],
      "execution_count": null,
      "outputs": []
    },
    {
      "cell_type": "code",
      "metadata": {
        "id": "oyYKI7hZ7s1l"
      },
      "source": [
        "6. จงหาค่า Mean, Mode, Median, Variance และ STD ของเลขชุดนี้\n",
        "   33, 16, 73, 44, 67, 134, 99, 11, 13, 16\n",
        "    data : 33, 16, 73, 44, 67, 134, 99, 11, 13, 16\n",
        "    Mean = 50.6\n",
        "    Mode = 16\n",
        "    Median = 38.5\n",
        "    Variance = 1755.37778\n",
        "    STD = 41.89723 "
      ],
      "execution_count": null,
      "outputs": []
    },
    {
      "cell_type": "code",
      "metadata": {
        "id": "gLVUThdg8WkG"
      },
      "source": [
        "ชุด1: 10, 20, 50, 70, 90, 110, 15, 66, 20, 33\n",
        "ชุด2: 33, 16, 73, 44, 67, 134, 99, 11, 13, 16\n",
        "จากข้อมูลด้านบน\n",
        "7. หา Coefficient of Variation แล้วเปรียบเทียบกัน\n",
        "   COV ของข้อมูลชุดที่ 1 คือ 0.714\n",
        "   COV ของข้อมูลชุดที่ 1 คือ 0.828\n",
        "\n",
        "8. สมมติว่า ชุด 1 และ 2 เป็นคู่อันดับ หา Covariance\n",
        "   665.86\n",
        "\n",
        "9. หา Correlation Coefficient \n",
        "   0.511"
      ],
      "execution_count": null,
      "outputs": []
    },
    {
      "cell_type": "code",
      "metadata": {
        "id": "GHuuncAdMpH3"
      },
      "source": [
        "35.54\n",
        "49.93\n",
        "58.09\n",
        "21.47\n",
        "30.64\n",
        "44.78\n",
        "40.64\n",
        "51.1\n",
        "34.77\n",
        "40.77\n",
        "43.62\n",
        "46.72\n",
        "43.69\n",
        "34.47\n",
        "41.49\n",
        "47.67\n",
        "24.97\n",
        "38.58\n",
        "48.97\n",
        "39.67\n",
        "44.29\n",
        "42.56\n",
        "48.26\n",
        "37.1\n",
        "22.28\n",
        "39.2\n",
        "45.73\n",
        "39.13\n",
        "32.91\n",
        "46.75\n",
        "สมมติว่าข้อมูลถูกกระจายอย่างปกติ (Normally distributed)\n",
        "\n",
        "10. จงหา Mean และ STD ของข้อมูลชุดนั้น\n",
        "    Mean ของข้อมูล คือ 40.526\n",
        "    STD ของข้อมูล คือ 40.526\n",
        "\n",
        "11. Standardize ข้อมูล\n",
        "    -2.261\n",
        "    -2.165\n",
        "    -1.846\n",
        "    -1.173\n",
        "    -0.904\n",
        "    -0.718\n",
        "    -0.683\n",
        "    -0.592\n",
        "    -0.406\n",
        "    -0.231\n",
        "    -0.166\n",
        "    -0.157\n",
        "    -0.102\n",
        "    0.013\n",
        "    0.029\n",
        "    0.114\n",
        "    0.241\n",
        "    0.367\n",
        "    0.375\n",
        "    0.447\n",
        "    0.505\n",
        "    0.617\n",
        "    0.735\n",
        "    0.738\n",
        "    0.847\n",
        "    0.917\n",
        "    1.002\n",
        "    1.116\n",
        "    1.254\n",
        "    2.084\n",
        "\n",
        "12. พล็อตกราฟจาก Standardized Dataset\n"
      ],
      "execution_count": null,
      "outputs": []
    },
    {
      "cell_type": "code",
      "metadata": {
        "colab": {
          "base_uri": "https://localhost:8080/",
          "height": 265
        },
        "id": "5PK7ffNjWtcZ",
        "outputId": "a8015bd0-3229-44cb-e254-ff4b8359c534"
      },
      "source": [
        "data = [49.93, 58.09, 21.47, 30.64, 44.78, 40.64, 51.1, 34.77, 40.77, 43.62, 46.72, 43.69, 34.47, 41.49, 47.67, 24.97, 38.58, 48.97, 39.67, 44.29, 42.56, 48.26, 37.1, 22.28, 39.2, 45.73, 39.13, 32.91, 46.75]\n",
        "import numpy as np\n",
        "data = np.array(data)\n",
        "standardize = (data - np.mean(data))/np.std(data)\n",
        "standardize.sort()\n",
        "standardize\n",
        "import scipy.stats as stats\n",
        "import math\n",
        "mu = 0\n",
        "variance = 1\n",
        "sigma = math.sqrt(variance)\n",
        "import matplotlib.pyplot as plt\n",
        "plt.plot(standardize, stats.norm.pdf(standardize, mu, sigma))\n",
        "plt.show()"
      ],
      "execution_count": null,
      "outputs": [
        {
          "output_type": "display_data",
          "data": {
            "image/png": "[encoded data removed]",
            "text/plain": [
              "<Figure size 432x288 with 1 Axes>"
            ]
          },
          "metadata": {
            "tags": [],
            "needs_background": "light"
          }
        }
      ]
    },
    {
      "cell_type": "code",
      "metadata": {
        "id": "vwdJlcgwYdfS"
      },
      "source": [
        "42690.64\n",
        "42325.34\n",
        "64971.4\n",
        "35967.86\n",
        "53694.28\n",
        "43309.04\n",
        "36018.4\n",
        "29007.55\n",
        "47506.85\n",
        "77279.74\n",
        "ข้อมูล 10 ข้อมูลด้านบนนี้ สมมติว่าเป็นเงินเดือนของ Programmers ในไทย\n",
        "สมมติว่าข้อมูลถูกกระจายอย่างปกติ (Normally distributed)\n",
        "\n",
        "13. จงหา Mean และ STD ของข้อมูล\n",
        "    Mean ของข้อมูล คือ 47277.11\n",
        "    STD ของข้อมูล คือ 14545.7683\n",
        "\n",
        "14. จงหา T-score สำหรับ 90% Confidence Interval ของข้อมูล\n",
        "    1.833113\n",
        "\n",
        "15. จงหา 90% กับ 95% Confidence Interval\n",
        "    เรามั่นใจ 90% ว่าค่าเฉลี่ยรายเงินเดือนของ Progrmaer ในไทยอยู่ในช่วง 39277.9035 - 55276.3165 บาท\n",
        "    เรามั่นใจ 95% ว่าค่าเฉลี่ยรายเงินเดือนของ Progrmaer ในไทยอยู่ในช่วง 37405.6711 - 57148.5489 บาท"
      ],
      "execution_count": null,
      "outputs": []
    },
    {
      "cell_type": "code",
      "metadata": {
        "id": "d7g7ICIheQck"
      },
      "source": [
        "81469\n",
        "87531.77\n",
        "75745.76\n",
        "84907.66\n",
        "91575.27\n",
        "91222.62\n",
        "80216.58\n",
        "93699.6\n",
        "95481.35\n",
        "95482.59\n",
        "ข้อมูล 10 ข้อมูลด้านบนนี้ สมมติว่าเป็นเงินเดือนของหมอฟันในไทย\n",
        "สมมติว่าข้อมูลถูกกระจายอย่างปกติ (Normally distributed)\n",
        "ให้ Population STD = 7900\n",
        "\n",
        "16. จงหา Mean ของข้อมูลชุดนั้น\n",
        "    Mean ของข้อมูล คือ 87733.22\n",
        "    STD ของข้อมูล คือ 7900\n",
        "\n",
        "17. จงหา Z-score สำหรับ 90% Confidence Interval ของข้อมูลชุดนั้น\n",
        "    1.64\n",
        "\n",
        "18. จงหา 90% กับ 95% Confidence Interval\n",
        "    เรามั่นใจ 90% ว่าค่าเฉลี่ยเงินเดือนของหมอฟันในไทย อยู่ในช่วง 83624.0477 - 91842.3923 บาท\n",
        "    เรามั่นใจ 90% ว่าค่าเฉลี่ยเงินเดือนของหมอฟันในไทย อยู่ในช่วง 82836.8392 - 92629.6008 บาท"
      ],
      "execution_count": null,
      "outputs": []
    }
  ]
}